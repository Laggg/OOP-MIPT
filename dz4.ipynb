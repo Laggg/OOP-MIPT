{
 "cells": [
  {
   "cell_type": "markdown",
   "metadata": {},
   "source": [
    "# Задание 1"
   ]
  },
  {
   "cell_type": "markdown",
   "metadata": {},
   "source": [
    "(нужно запускать из консоли)"
   ]
  },
  {
   "cell_type": "code",
   "execution_count": 1,
   "metadata": {},
   "outputs": [],
   "source": [
    "def fibonacci(N):\n",
    "\tif N==1 or N==2:\n",
    "\t\treturn(1)\n",
    "\telse:\n",
    "\t\treturn(fibonacci(N-1)+fibonacci(N-2))\n",
    "\n",
    "import sys\n",
    "\n",
    "if __name__=='__main__':\n",
    "\tif len(sys.argv)==2:\n",
    "\t\tprint(fibonacci(int(sys.argv[1])))\n",
    "\telif len(sys.argv)==3 and sys.argv[1]=='-n':\n",
    "\t\tprint(fibonacci(int(sys.argv[2])))"
   ]
  },
  {
   "cell_type": "markdown",
   "metadata": {},
   "source": [
    "# Задание 2"
   ]
  },
  {
   "cell_type": "code",
   "execution_count": null,
   "metadata": {},
   "outputs": [],
   "source": [
    "def decor(fn):\n",
    "\tdef wrapped(A):\n",
    "\t\tif fn(A)==0:\n",
    "\t\t\treturn('No')\n",
    "\t\telif fn(A)>=10:\n",
    "\t\t\treturn('Too many')\n",
    "\t\telse:\n",
    "\t\t\treturn fn(A)\n",
    "\treturn wrapped\n",
    "\n",
    "\n",
    "@decor\n",
    "def even(A):\n",
    "\tcnt=0\n",
    "\tfor i in range(len(A)):\n",
    "\t\tif A[i]%2==0:\n",
    "\t\t\tcnt+=1\n",
    "\treturn(cnt)\n",
    "\n",
    "\n",
    "numbers=[int(i) for i in input().split()]\n",
    "print(even(numbers))"
   ]
  },
  {
   "cell_type": "markdown",
   "metadata": {},
   "source": [
    "# Задание 3"
   ]
  },
  {
   "cell_type": "code",
   "execution_count": 27,
   "metadata": {},
   "outputs": [
    {
     "name": "stdout",
     "output_type": "stream",
     "text": [
      "3 2 1\n"
     ]
    }
   ],
   "source": [
    "def swap(func):\n",
    "    def swapped(*args, **kwargs):\n",
    "        names=list(args)\n",
    "        for i in range((len(names))//2+1):\n",
    "            names[i], names[-1-i] = names[-1-i], names[i]\n",
    "            \n",
    "        return func(*names, **kwargs)\n",
    "    return(swapped)\n",
    "    \n",
    "    \n",
    "\n",
    "@swap\n",
    "def func(a, b, c, printt=False):\n",
    "    if printt:\n",
    "        print(a, b, c)\n",
    "\n",
    "func(1, 2, 3, printt=True)"
   ]
  },
  {
   "cell_type": "markdown",
   "metadata": {},
   "source": [
    "# Задание 4"
   ]
  },
  {
   "cell_type": "code",
   "execution_count": null,
   "metadata": {},
   "outputs": [],
   "source": []
  }
 ],
 "metadata": {
  "kernelspec": {
   "display_name": "Python 3",
   "language": "python",
   "name": "python3"
  },
  "language_info": {
   "codemirror_mode": {
    "name": "ipython",
    "version": 3
   },
   "file_extension": ".py",
   "mimetype": "text/x-python",
   "name": "python",
   "nbconvert_exporter": "python",
   "pygments_lexer": "ipython3",
   "version": "3.7.1"
  }
 },
 "nbformat": 4,
 "nbformat_minor": 2
}
